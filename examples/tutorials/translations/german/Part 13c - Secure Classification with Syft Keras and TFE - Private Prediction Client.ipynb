{
 "cells": [
  {
   "cell_type": "markdown",
   "metadata": {},
   "source": [
    "# Vertrauliche Vorhersagen mit Syft Keras"
   ]
  },
  {
   "cell_type": "markdown",
   "metadata": {},
   "source": [
    "## Schritt 3: Vertrauliche Vorhersagen mit Syft Keras - Serving (Client)"
   ]
  },
  {
   "cell_type": "markdown",
   "metadata": {},
   "source": [
    "Herzlichen Glückwunsch! Nachdem Sie ihr Model mit normalem Keras traininert und mit Syft Keras abgesichert haben, sind Sie nun bereit einige vertrauliche Vorhersagen zu bearbeiten."
   ]
  },
  {
   "cell_type": "code",
   "execution_count": null,
   "metadata": {
    "ExecuteTime": {
     "end_time": "2020-04-04T17:05:42.088405Z",
     "start_time": "2020-04-04T17:05:40.502700Z"
    }
   },
   "outputs": [],
   "source": [
    "import numpy as np\n",
    "import tensorflow as tf\n",
    "from tensorflow.keras.datasets import mnist\n",
    "\n",
    "import syft as sy"
   ]
  },
  {
   "cell_type": "markdown",
   "metadata": {},
   "source": [
    "## Daten"
   ]
  },
  {
   "cell_type": "markdown",
   "metadata": {},
   "source": [
    "Hier bereiten wir den MNIST Datensatz auf. Dies ist identisch zu der Aufbereitung für das Training."
   ]
  },
  {
   "cell_type": "code",
   "execution_count": null,
   "metadata": {
    "ExecuteTime": {
     "end_time": "2020-04-04T17:05:58.686004Z",
     "start_time": "2020-04-04T17:05:58.364456Z"
    }
   },
   "outputs": [],
   "source": [
    "# input image dimensions\n",
    "img_rows, img_cols = 28, 28\n",
    "\n",
    "# the data, split between train and test sets\n",
    "(x_train, y_train), (x_test, y_test) = mnist.load_data()\n",
    "\n",
    "x_train = x_train.reshape(x_train.shape[0], img_rows, img_cols, 1)\n",
    "x_test = x_test.reshape(x_test.shape[0], img_rows, img_cols, 1)\n",
    "input_shape = (img_rows, img_cols, 1)\n",
    "\n",
    "x_train = x_train.astype('float32')\n",
    "x_test = x_test.astype('float32')\n",
    "x_train /= 255\n",
    "x_test /= 255"
   ]
  },
  {
   "cell_type": "markdown",
   "metadata": {},
   "source": [
    "## Verbinden mit dem Model"
   ]
  },
  {
   "cell_type": "markdown",
   "metadata": {},
   "source": [
    "Bevor das Model befragt werden kann, muss eine Verbindung zu ihm hergestellt werden. Dafür wird ein Client eingesetzt. Anschließend müssen genau dieselben drei TFEWorker (`alice`, `bob`, und `carol`) und das Cluster definiert werden. Zu guter Letzt rufen Sie `connect_to_model` auf. Dies erstellt einen TFE Queue-Server auf der Client-Seite, welcher sich mit dem Queue-Server von `model.serve()` aus **Teil 13b** verbindet. Der Client-Queue-Server ist verantwortlich dafür die Rohdaten geheim aufzuteilen bevor er eine Vorhersage-Anfrage stellt."
   ]
  },
  {
   "cell_type": "code",
   "execution_count": null,
   "metadata": {
    "ExecuteTime": {
     "end_time": "2020-04-04T17:06:44.086835Z",
     "start_time": "2020-04-04T17:06:44.075200Z"
    }
   },
   "outputs": [],
   "source": [
    "num_classes = 10\n",
    "input_shape = (1, 28, 28, 1)\n",
    "output_shape = (1, num_classes)"
   ]
  },
  {
   "cell_type": "code",
   "execution_count": null,
   "metadata": {
    "ExecuteTime": {
     "end_time": "2020-04-04T17:06:46.895620Z",
     "start_time": "2020-04-04T17:06:46.856463Z"
    }
   },
   "outputs": [],
   "source": [
    "client = sy.TFEWorker()\n",
    "\n",
    "alice = sy.TFEWorker(host='localhost:4000')\n",
    "bob = sy.TFEWorker(host='localhost:4001')\n",
    "carol = sy.TFEWorker(host='localhost:4002')\n",
    "cluster = sy.TFECluster(alice, bob, carol)\n",
    "\n",
    "client.connect_to_model(input_shape, output_shape, cluster)"
   ]
  },
  {
   "cell_type": "markdown",
   "metadata": {},
   "source": [
    "## Abfragen des Models"
   ]
  },
  {
   "cell_type": "markdown",
   "metadata": {},
   "source": [
    "Nun sind Sie bereit um vertrauliche Vorhersagen zu erhalten! Das Aufrufen von `query_model` fügt das `image` in die oben erstellte Queue hinzu. Diese teilt die Daten lokal geheim auf und übermittelt diese Teile anschließend dem Model-Server aus **Teil 13b**."
   ]
  },
  {
   "cell_type": "code",
   "execution_count": null,
   "metadata": {
    "ExecuteTime": {
     "end_time": "2020-04-04T17:06:57.688664Z",
     "start_time": "2020-04-04T17:06:57.681550Z"
    }
   },
   "outputs": [],
   "source": [
    "# User inputs\n",
    "num_tests = 3\n",
    "images, expected_labels = x_test[:num_tests], y_test[:num_tests]"
   ]
  },
  {
   "cell_type": "code",
   "execution_count": null,
   "metadata": {
    "ExecuteTime": {
     "end_time": "2020-04-04T17:06:58.478032Z",
     "start_time": "2020-04-04T17:06:58.360118Z"
    }
   },
   "outputs": [],
   "source": [
    "for image, expected_label in zip(images, expected_labels):\n",
    "\n",
    "    res = client.query_model(image.reshape(1, 28, 28, 1))\n",
    "    predicted_label = np.argmax(res)\n",
    "\n",
    "    print(\"Das Bild hat das Label {} und wurde {} klassifiziert als {}\".format(\n",
    "        expected_label,\n",
    "        \"richtig\" if expected_label == predicted_label else \"falsch\",\n",
    "        predicted_label))"
   ]
  },
  {
   "cell_type": "markdown",
   "metadata": {},
   "source": [
    "Das lief klasse. Alle drei Bilder konnten richtig klassifiziert werden! Das Besondere an diesen Klassifizierungen ist, dass Sie keinerlei geheime Informationen offen legen mussten, um den Service erhalten zu können. Der Model-Host sah zu keiner Zeit Ihre Eingabe-Daten noch Ihre Ausgabe-Klassifizierungen und auch mussten Sie das Model nicht herunterladen.  \n",
    "Sie konnten geheime Vorhersagen auf verschlüsselten Daten mit einem verschlüsselten Model erhalten!\n",
    "\n",
    "Befor wir aufbrechen und dies in unseren eigenen Apps anwenden, lassen Sie uns noch schnell zurück zu **Teil 13b** gehen und dort unser bereit gestelltes Model aufräumen!"
   ]
  },
  {
   "cell_type": "code",
   "execution_count": null,
   "metadata": {},
   "outputs": [],
   "source": []
  }
 ],
 "metadata": {
  "kernelspec": {
   "display_name": "Python 3",
   "language": "python",
   "name": "python3"
  },
  "language_info": {
   "codemirror_mode": {
    "name": "ipython",
    "version": 3
   },
   "file_extension": ".py",
   "mimetype": "text/x-python",
   "name": "python",
   "nbconvert_exporter": "python",
   "pygments_lexer": "ipython3",
   "version": "3.7.4"
  }
 },
 "nbformat": 4,
 "nbformat_minor": 2
}
