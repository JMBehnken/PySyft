{
 "cells": [
  {
   "cell_type": "markdown",
   "metadata": {},
   "source": [
    "# Vertrauliche Vorhersagen mit Syft Keras"
   ]
  },
  {
   "cell_type": "markdown",
   "metadata": {},
   "source": [
    "# Schritt 1: Öffentliches Training\n",
    "\n",
    "Willkommen zu diesem Tutorial! In den folgenden Notebooks wird es darum gehen vertrauliche Vorhersagen anbieten zu können. Mit vertraulichen Vorhersagen ist gemeint, dass die Daten dabei über den gesamten Prozess hin verschlüsselt bleiben. Zu keinem Zeitpunkt teilt der Nutzer dabei Rohdaten. Um diese vertraulichen Vorhersagen anbieten zu können, nutzt Syft Keras eine zugrundeliegende Bibliothek names [TF Encrypted](https://github.com/tf-encrypted/tf-encrypted). TF Encrypted kombiniert topaktuelle Kryptographie und Machine Learning Techniken. Dabei kann sich der Nutzer jedoch voll auf die Anwendung von Machine Learning konzentrieren.\n",
    "\n",
    "Vertrauliche Vorhersagen anzubieten lässt sich in drei Schritten erreichen:\n",
    "- **Schritt 1**: Trainiere das Model mit normalem Keras.\n",
    "- **Schritt 2**: Sichere das Model ab und starte einen Server zum Anbieten.\n",
    "- **Schritt 3**: Befrage das Model für eigene vertrauliche Vorhersagen als Klient.\n",
    "\n",
    "Lassen Sie uns mit diesen drei Schritten beginnen, um wirklungsvolle Machine Learning Services ohne der Verlust der Privatsphäre anzubieten.\n",
    "\n",
    "Autoren:\n",
    "- Jason Mancuso - Twitter: [@jvmancuso](https://twitter.com/jvmancuso)\n",
    "- Yann Dupis - Twitter: [@YannDupis](https://twitter.com/YannDupis)\n",
    "- Morten Dahl - Twitter: [@mortendahlcs](https://github.com/mortendahlcs)\n",
    "\n",
    "Im Namen von:\n",
    "- Dropout Labs - Twitter: [@dropoutlabs](https://twitter.com/dropoutlabs)\n",
    "- TF Encrypted - Twitter: [@tf_encrypted](https://twitter.com/tf_encrypted)\n",
    "\n",
    "Übersetzer:\n",
    "- Jan Moritz Behnken - Github: [@JMBehnken](https://github.com/JMBehnken)"
   ]
  },
  {
   "cell_type": "markdown",
   "metadata": {},
   "source": [
    "## Trainiere das Model mit Keras"
   ]
  },
  {
   "cell_type": "markdown",
   "metadata": {},
   "source": [
    "Um vertrauliche Machine Learning Techniken für eigene Projekte anwenden zu können, sollte niemand neue Machine Learning Gerüste lernen müssen. Mit grundlegenden [Keras-Kenntnissen](https://keras.io/) können diese Techniken mit Syft Keras genutzt werden. Wenn Sie noch nie mit Keras gearbeitet haben, können Sie es mit der [Keras-Dokumentation](https://keras.io) besser kennenlernen. \n",
    "\n",
    "Bevor vertrauliche Vorhersagen angeboten werden können, muss erstmal ein Model mit normalem Keras trainiert werden. Als Beispiel wird hier ein Model zum klassifizieren handgeschriebener Ziffern verwendet. Um das Model zu trainierren wird der [MNIST-Datensatz](http://yann.lecun.com/exdb/mnist/) verwendet.\n",
    "\n",
    "[Dises Beispiel](https://github.com/keras-team/keras/blob/master/examples/mnist_cnn.py) wird vom Keras Repository ausgeliehen. Um das Model zu trainieren, reicht es aus die Zell unten zu starten. "
   ]
  },
  {
   "cell_type": "code",
   "execution_count": null,
   "metadata": {
    "ExecuteTime": {
     "end_time": "2020-04-04T16:03:47.301156Z",
     "start_time": "2020-04-04T16:03:31.531497Z"
    }
   },
   "outputs": [],
   "source": [
    "from __future__ import print_function\n",
    "import tensorflow.keras as keras\n",
    "from tensorflow.keras.datasets import mnist\n",
    "from tensorflow.keras.models import Sequential\n",
    "from tensorflow.keras.layers import Dense, Dropout, Flatten\n",
    "from tensorflow.keras.layers import Conv2D, AveragePooling2D\n",
    "from tensorflow.keras.layers import Activation\n",
    "\n",
    "batch_size = 128\n",
    "num_classes = 10\n",
    "epochs = 2\n",
    "\n",
    "# input image dimensions\n",
    "img_rows, img_cols = 28, 28\n",
    "\n",
    "# the data, split between train and test sets\n",
    "(x_train, y_train), (x_test, y_test) = mnist.load_data()\n",
    "\n",
    "x_train = x_train.reshape(x_train.shape[0], img_rows, img_cols, 1)\n",
    "x_test = x_test.reshape(x_test.shape[0], img_rows, img_cols, 1)\n",
    "input_shape = (img_rows, img_cols, 1)\n",
    "\n",
    "x_train = x_train.astype('float32')\n",
    "x_test = x_test.astype('float32')\n",
    "x_train /= 255\n",
    "x_test /= 255\n",
    "print('x_train shape:', x_train.shape)\n",
    "print(x_train.shape[0], 'train samples')\n",
    "print(x_test.shape[0], 'test samples')\n",
    "\n",
    "# convert class vectors to binary class matrices\n",
    "y_train = keras.utils.to_categorical(y_train, num_classes)\n",
    "y_test = keras.utils.to_categorical(y_test, num_classes)\n",
    "\n",
    "model = Sequential()\n",
    "\n",
    "model.add(Conv2D(10, (3, 3), input_shape=input_shape))\n",
    "model.add(AveragePooling2D((2, 2)))\n",
    "model.add(Activation('relu'))\n",
    "model.add(Conv2D(32, (3, 3)))\n",
    "model.add(AveragePooling2D((2, 2)))\n",
    "model.add(Activation('relu'))\n",
    "model.add(Conv2D(64, (3, 3)))\n",
    "model.add(AveragePooling2D((2, 2)))\n",
    "model.add(Activation('relu'))\n",
    "model.add(Flatten())\n",
    "model.add(Dense(num_classes, activation='softmax'))\n",
    "\n",
    "model.compile(loss=keras.losses.categorical_crossentropy,\n",
    "              optimizer=keras.optimizers.Adam(),\n",
    "              metrics=['accuracy'])\n",
    "\n",
    "model.fit(x_train, y_train,\n",
    "          batch_size=batch_size,\n",
    "          epochs=epochs,\n",
    "          verbose=1,\n",
    "          validation_data=(x_test, y_test))\n",
    "score = model.evaluate(x_test, y_test, verbose=0)\n",
    "print('Test loss:', score[0])\n",
    "print('Test accuracy:', score[1])"
   ]
  },
  {
   "cell_type": "markdown",
   "metadata": {},
   "source": [
    "## Speichere das Model mit seinen Gewichten für zukünftige Vorhersagen"
   ]
  },
  {
   "cell_type": "markdown",
   "metadata": {},
   "source": [
    "Klasse! Das Model wurde trainiert. Mit `model.save()` werden die Gewichte des Models gespeichert. Im nächsten  Notebook werden diese Gewichte in Syft Keras geladen und ein Verhersage-Service gestartet."
   ]
  },
  {
   "cell_type": "code",
   "execution_count": null,
   "metadata": {
    "ExecuteTime": {
     "end_time": "2020-04-04T16:05:38.600822Z",
     "start_time": "2020-04-04T16:05:38.499612Z"
    }
   },
   "outputs": [],
   "source": [
    "model.save('short-conv-mnist.h5')"
   ]
  },
  {
   "cell_type": "code",
   "execution_count": null,
   "metadata": {},
   "outputs": [],
   "source": []
  }
 ],
 "metadata": {
  "kernelspec": {
   "display_name": "Python 3",
   "language": "python",
   "name": "python3"
  },
  "language_info": {
   "codemirror_mode": {
    "name": "ipython",
    "version": 3
   },
   "file_extension": ".py",
   "mimetype": "text/x-python",
   "name": "python",
   "nbconvert_exporter": "python",
   "pygments_lexer": "ipython3",
   "version": "3.7.4"
  }
 },
 "nbformat": 4,
 "nbformat_minor": 2
}
