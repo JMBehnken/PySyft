{
 "cells": [
  {
   "cell_type": "markdown",
   "metadata": {},
   "source": [
    "# Teil 2: Absichern des Model Serving mit Syft Keras"
   ]
  },
  {
   "cell_type": "markdown",
   "metadata": {},
   "source": [
    "Nachdem das Model mit normalem Keras trainiert wurde, sind Sie nun bereit für vertrauliche Vorhersagen. Diese können mit Syft Keras umgesetzt werden.\n",
    "\n",
    "Um das Model sicher anbieten zu können, werden drei TFEWorker (Server) benötigt. Weil TF Encrypted auf [Multi-Party Computation (MPC)](https://en.wikipedia.org/wiki/Secure_multi-party_computation) genannten Verschlüsselungen beruht, ist dies nötig. Die Idee dahinter ist, die Gewichte des Models additiv aufzuteilen in Anteile, welche anschließend auf die unterschiedlichen Server verteilt werden. Die wichtigste Eigenschaft dabei ist, dass der einzelne Server keinerlei Aussagen treffen kann über die Daten oder die Gewichte des Models.\n",
    "\n",
    "Es wird ein Syft Keras Model wie im vorherigen Notebook definiert. Bevor dies jedoch geschieht, wird Keras noch angebunden mit `hook = sy.KerasHook(tf.keras)`. Dadurch werden drei wichtige neue Methoden zur Keras Sequential Klasse hinzugefügt:\n",
    " - `share`: sichert das Model mit additivem Aufteilen ab; standardmäßig wird das SecureNN Protokoll von TF Encrypted verwendet, um die Anteile auf die drei TFEWorker zu verteilen. Der wichtigste Punkt ist der, dass dadurch Vorhersagen auf verschlüsselten Daten ermöglicht werden.\n",
    " - `serve`: diese Funktion startet eine Queue, sodass die TFEWorker Vorhersage-Anfragen an das abgesicherte Model von externen Klienten akzeptieren können.\n",
    " - `shutdown_workers`: sobald alle vertraulichen Vorhersagen getätigt sind, kann hiermit das Model gestoppt werden. Auchkönnen Anleitungen bereitgestellt werden fürs manuelle Abschalten, sollte dies gewünscht sein.\n",
    "\n",
    "Wenn Sie mehr über MPC erfahren wollen, können sie dies auf diesem exzellenten [Blog](https://mortendahl.github.io/2017/04/17/private-deep-learning-with-mpc/)."
   ]
  },
  {
   "cell_type": "code",
   "execution_count": null,
   "metadata": {
    "ExecuteTime": {
     "end_time": "2020-04-04T16:22:47.953939Z",
     "start_time": "2020-04-04T16:22:46.331924Z"
    }
   },
   "outputs": [],
   "source": [
    "import numpy as np\n",
    "import tensorflow as tf\n",
    "from tensorflow.keras import Sequential\n",
    "from tensorflow.keras.layers import AveragePooling2D, Conv2D, Dense, Activation, Flatten, ReLU, Activation\n",
    "\n",
    "import syft as sy\n",
    "hook = sy.KerasHook(tf.keras)"
   ]
  },
  {
   "cell_type": "markdown",
   "metadata": {},
   "source": [
    "## Model"
   ]
  },
  {
   "cell_type": "markdown",
   "metadata": {},
   "source": [
    "Wie zu erkennen ist, wurde beinahe eine exakte Kopie des vorherigen Models erstellt. Einzig und allein wurde noch `batch_input_shape` mit angegeben. Dies ermöglicht TF Encrypted die sichere Berechnung besser zu optimieren, da die Tensorgröße bekannt ist. Für diese MNIST Demonstration werden die Eingabe-Daten in der Form (1, 28, 28, 1) verwendet.  \n",
    "Auch werden die Logits anstelle des Softmaxes zurückgegeben, dies reduziert die Komplexizität für das MPC deutlich  und wird für die Vorhersagen nicht benötigt."
   ]
  },
  {
   "cell_type": "code",
   "execution_count": null,
   "metadata": {
    "ExecuteTime": {
     "end_time": "2020-04-04T16:38:17.428811Z",
     "start_time": "2020-04-04T16:38:17.426751Z"
    }
   },
   "outputs": [],
   "source": [
    "num_classes = 10\n",
    "input_shape = (1, 28, 28, 1)"
   ]
  },
  {
   "cell_type": "code",
   "execution_count": null,
   "metadata": {
    "ExecuteTime": {
     "end_time": "2020-04-04T16:38:18.667119Z",
     "start_time": "2020-04-04T16:38:18.583002Z"
    }
   },
   "outputs": [],
   "source": [
    "model = Sequential()\n",
    "\n",
    "model.add(Conv2D(10, (3, 3), batch_input_shape=input_shape))\n",
    "model.add(AveragePooling2D((2, 2)))\n",
    "model.add(Activation('relu'))\n",
    "model.add(Conv2D(32, (3, 3)))\n",
    "model.add(AveragePooling2D((2, 2)))\n",
    "model.add(Activation('relu'))\n",
    "model.add(Conv2D(64, (3, 3)))\n",
    "model.add(AveragePooling2D((2, 2)))\n",
    "model.add(Activation('relu'))\n",
    "model.add(Flatten())\n",
    "model.add(Dense(num_classes, name=\"logit\"))"
   ]
  },
  {
   "cell_type": "markdown",
   "metadata": {},
   "source": [
    "### Laden der Vortrainierten Gewichte"
   ]
  },
  {
   "cell_type": "markdown",
   "metadata": {},
   "source": [
    "Mit `load_weights` werden die vorher gespeicherten Gewichte des trainierten Models einfach wieder verwendet."
   ]
  },
  {
   "cell_type": "code",
   "execution_count": null,
   "metadata": {
    "ExecuteTime": {
     "end_time": "2020-04-04T16:39:09.452226Z",
     "start_time": "2020-04-04T16:39:09.370627Z"
    }
   },
   "outputs": [],
   "source": [
    "pre_trained_weights = 'short-conv-mnist.h5'\n",
    "model.load_weights(pre_trained_weights)"
   ]
  },
  {
   "cell_type": "markdown",
   "metadata": {},
   "source": [
    "### Starten der Helfer"
   ]
  },
  {
   "cell_type": "markdown",
   "metadata": {},
   "source": [
    "Nun werden die TFEWorker (`alice`, `bob`, and `carol`) erstellt um mit TF Encrypted vertrauliche Vorhersagen anbieten zu können. Für jeden TFEWorker muss ein Host angegeben werden. Anschließend können die Helfer in einem Cluster gebündelt werden.\n",
    "\n",
    "Diese Helfer starten einen [TensorFlow Server](https://www.tensorflow.org/api_docs/python/tf/distribute/Server), welchen Sie selbst manuell (`AUTO = False`) oder automatisiert (`AUTO = True`) verwalten können. Wenn Sie manuelles Verwalten wählen, werden Sie nach `cluster.start()` angeleitet einen Befehl im Terminal für jeden Helfer auszuführen. Sollten alle Helfer auf einem einzigen Gerät (z. B. `localhost`) sein, kann Syft das automatische Verwalten der TensorFlow Server übernehme."
   ]
  },
  {
   "cell_type": "code",
   "execution_count": null,
   "metadata": {
    "ExecuteTime": {
     "end_time": "2020-04-04T16:45:39.214405Z",
     "start_time": "2020-04-04T16:45:39.176159Z"
    }
   },
   "outputs": [],
   "source": [
    "AUTO = True\n",
    "\n",
    "alice = sy.TFEWorker(host='localhost:4000', auto_managed=AUTO)\n",
    "bob = sy.TFEWorker(host='localhost:4001', auto_managed=AUTO)\n",
    "carol = sy.TFEWorker(host='localhost:4002', auto_managed=AUTO)\n",
    "\n",
    "cluster = sy.TFECluster(alice, bob, carol)\n",
    "cluster.start()"
   ]
  },
  {
   "cell_type": "markdown",
   "metadata": {},
   "source": [
    "### Absichern des Models durch aufteilen der Gewichte"
   ]
  },
  {
   "cell_type": "markdown",
   "metadata": {},
   "source": [
    "Dank `sy.KerasHook(tf.keras)` lässt sich die `share` Methode aufrufen, um das Model in ein TF Encrypted Keras Model umzuwandeln. \n",
    "\n",
    "Wenn Sie sich für eine manuelle Verwaltung der Server entschieden haben, wird dieser Prozess nicht abgeschlossen werden können, bis nicht alle Helfer gestartet sind. Anzumerken ist, dass Ihre Firewall möglicherweise nachfragt, ob Python eingehende Verbindungen eingehen darf."
   ]
  },
  {
   "cell_type": "code",
   "execution_count": null,
   "metadata": {
    "ExecuteTime": {
     "end_time": "2020-04-04T16:48:36.297956Z",
     "start_time": "2020-04-04T16:48:34.273363Z"
    }
   },
   "outputs": [],
   "source": [
    "model.share(cluster)"
   ]
  },
  {
   "cell_type": "markdown",
   "metadata": {},
   "source": [
    "### Anbieten des Models"
   ]
  },
  {
   "cell_type": "markdown",
   "metadata": {},
   "source": [
    "Perfekt! Mit dem Aufruf von `model.serve()` ist das Model bereit vertrauliche Vorhersagen anzubieten. Mit `num_requests` kann ein Limit für die Anzahl an Vorhersagen gesetzt werden; wird dies nicht angegeben, so bleibt das Model in Bereitschaft bis es unterbrochen wird."
   ]
  },
  {
   "cell_type": "code",
   "execution_count": null,
   "metadata": {
    "ExecuteTime": {
     "end_time": "2020-04-04T17:06:58.479232Z",
     "start_time": "2020-04-04T17:02:37.079383Z"
    }
   },
   "outputs": [],
   "source": [
    "model.serve(num_requests=3)"
   ]
  },
  {
   "cell_type": "markdown",
   "metadata": {},
   "source": [
    "Sie sind bereit zum Notebook **Part 13c** zu wechseln und dort einige vertrauliche Vorhersage-Anfragen zu starten."
   ]
  },
  {
   "cell_type": "markdown",
   "metadata": {},
   "source": [
    "### Aufräumen!"
   ]
  },
  {
   "cell_type": "markdown",
   "metadata": {},
   "source": [
    "Sobald das Limit oben erreicht ist, wird das Model nicht mehr bereit stehen für Anfragen, doch bleibt es weiterhin geteilt auf allen drei Helfern. Diese Helfer können mit der unteren Zelle abgeschaltet werden. \n",
    "\n",
    "**Glückwunsch** zum Abschluss von Teil 13b: \n",
    "\n",
    "Once your request limit above, the model will no longer be available for serving requests, but it's still secret shared between the three workers above. You can kill the workers by executing the cell below.\n",
    "\n",
    "**Congratulations** on finishing Part 13b: Absichern des Model Serving mit Syft Keras"
   ]
  },
  {
   "cell_type": "code",
   "execution_count": null,
   "metadata": {
    "ExecuteTime": {
     "end_time": "2020-04-04T17:06:58.546175Z",
     "start_time": "2020-04-04T17:06:58.481553Z"
    }
   },
   "outputs": [],
   "source": [
    "model.stop()\n",
    "cluster.stop()\n",
    "\n",
    "if not AUTO:\n",
    "    process_ids = !ps aux | grep '[p]ython -m tf_encrypted.player --config' | awk '{print $2}'\n",
    "    for process_id in process_ids:\n",
    "        !kill {process_id}\n",
    "        print(\"Process ID {id} has been killed.\".format(id=process_id))"
   ]
  },
  {
   "cell_type": "code",
   "execution_count": null,
   "metadata": {},
   "outputs": [],
   "source": []
  }
 ],
 "metadata": {
  "kernelspec": {
   "display_name": "Python 3",
   "language": "python",
   "name": "python3"
  },
  "language_info": {
   "codemirror_mode": {
    "name": "ipython",
    "version": 3
   },
   "file_extension": ".py",
   "mimetype": "text/x-python",
   "name": "python",
   "nbconvert_exporter": "python",
   "pygments_lexer": "ipython3",
   "version": "3.7.4"
  }
 },
 "nbformat": 4,
 "nbformat_minor": 2
}
